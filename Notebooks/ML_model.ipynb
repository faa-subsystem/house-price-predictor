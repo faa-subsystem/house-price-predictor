{
 "cells": [
  {
   "cell_type": "markdown",
   "id": "2538c601",
   "metadata": {},
   "source": [
    "## Machine Learning Model ##"
   ]
  },
  {
   "cell_type": "code",
   "execution_count": 1,
   "id": "31e33100",
   "metadata": {},
   "outputs": [
    {
     "data": {
      "text/html": [
       "<div>\n",
       "<style scoped>\n",
       "    .dataframe tbody tr th:only-of-type {\n",
       "        vertical-align: middle;\n",
       "    }\n",
       "\n",
       "    .dataframe tbody tr th {\n",
       "        vertical-align: top;\n",
       "    }\n",
       "\n",
       "    .dataframe thead th {\n",
       "        text-align: right;\n",
       "    }\n",
       "</style>\n",
       "<table border=\"1\" class=\"dataframe\">\n",
       "  <thead>\n",
       "    <tr style=\"text-align: right;\">\n",
       "      <th></th>\n",
       "      <th>Unnamed: 0</th>\n",
       "      <th>Suburb</th>\n",
       "      <th>Address</th>\n",
       "      <th>Rooms</th>\n",
       "      <th>Type</th>\n",
       "      <th>Price</th>\n",
       "      <th>Method</th>\n",
       "      <th>SellerG</th>\n",
       "      <th>Date</th>\n",
       "      <th>Distance</th>\n",
       "      <th>...</th>\n",
       "      <th>Bathroom</th>\n",
       "      <th>Car</th>\n",
       "      <th>Landsize</th>\n",
       "      <th>BuildingArea</th>\n",
       "      <th>YearBuilt</th>\n",
       "      <th>CouncilArea</th>\n",
       "      <th>Lattitude</th>\n",
       "      <th>Longtitude</th>\n",
       "      <th>Regionname</th>\n",
       "      <th>Propertycount</th>\n",
       "    </tr>\n",
       "  </thead>\n",
       "  <tbody>\n",
       "    <tr>\n",
       "      <th>0</th>\n",
       "      <td>2</td>\n",
       "      <td>Abbotsford</td>\n",
       "      <td>25 Bloomburg St</td>\n",
       "      <td>2</td>\n",
       "      <td>h</td>\n",
       "      <td>1035000.0</td>\n",
       "      <td>S</td>\n",
       "      <td>Biggin</td>\n",
       "      <td>4/02/2016</td>\n",
       "      <td>2.5</td>\n",
       "      <td>...</td>\n",
       "      <td>1.0</td>\n",
       "      <td>0.0</td>\n",
       "      <td>156.0</td>\n",
       "      <td>79.00</td>\n",
       "      <td>1900.0</td>\n",
       "      <td>Yarra</td>\n",
       "      <td>-37.80790</td>\n",
       "      <td>144.99340</td>\n",
       "      <td>Northern Metropolitan</td>\n",
       "      <td>4019.0</td>\n",
       "    </tr>\n",
       "    <tr>\n",
       "      <th>1</th>\n",
       "      <td>4</td>\n",
       "      <td>Abbotsford</td>\n",
       "      <td>5 Charles St</td>\n",
       "      <td>3</td>\n",
       "      <td>h</td>\n",
       "      <td>1465000.0</td>\n",
       "      <td>SP</td>\n",
       "      <td>Biggin</td>\n",
       "      <td>4/03/2017</td>\n",
       "      <td>2.5</td>\n",
       "      <td>...</td>\n",
       "      <td>2.0</td>\n",
       "      <td>0.0</td>\n",
       "      <td>134.0</td>\n",
       "      <td>150.00</td>\n",
       "      <td>1900.0</td>\n",
       "      <td>Yarra</td>\n",
       "      <td>-37.80930</td>\n",
       "      <td>144.99440</td>\n",
       "      <td>Northern Metropolitan</td>\n",
       "      <td>4019.0</td>\n",
       "    </tr>\n",
       "    <tr>\n",
       "      <th>2</th>\n",
       "      <td>6</td>\n",
       "      <td>Abbotsford</td>\n",
       "      <td>55a Park St</td>\n",
       "      <td>4</td>\n",
       "      <td>h</td>\n",
       "      <td>1600000.0</td>\n",
       "      <td>VB</td>\n",
       "      <td>Nelson</td>\n",
       "      <td>4/06/2016</td>\n",
       "      <td>2.5</td>\n",
       "      <td>...</td>\n",
       "      <td>1.0</td>\n",
       "      <td>2.0</td>\n",
       "      <td>120.0</td>\n",
       "      <td>142.00</td>\n",
       "      <td>2014.0</td>\n",
       "      <td>Yarra</td>\n",
       "      <td>-37.80720</td>\n",
       "      <td>144.99410</td>\n",
       "      <td>Northern Metropolitan</td>\n",
       "      <td>4019.0</td>\n",
       "    </tr>\n",
       "    <tr>\n",
       "      <th>3</th>\n",
       "      <td>11</td>\n",
       "      <td>Abbotsford</td>\n",
       "      <td>124 Yarra St</td>\n",
       "      <td>3</td>\n",
       "      <td>h</td>\n",
       "      <td>1876000.0</td>\n",
       "      <td>S</td>\n",
       "      <td>Nelson</td>\n",
       "      <td>7/05/2016</td>\n",
       "      <td>2.5</td>\n",
       "      <td>...</td>\n",
       "      <td>2.0</td>\n",
       "      <td>0.0</td>\n",
       "      <td>245.0</td>\n",
       "      <td>210.00</td>\n",
       "      <td>1910.0</td>\n",
       "      <td>Yarra</td>\n",
       "      <td>-37.80240</td>\n",
       "      <td>144.99930</td>\n",
       "      <td>Northern Metropolitan</td>\n",
       "      <td>4019.0</td>\n",
       "    </tr>\n",
       "    <tr>\n",
       "      <th>4</th>\n",
       "      <td>14</td>\n",
       "      <td>Abbotsford</td>\n",
       "      <td>98 Charles St</td>\n",
       "      <td>2</td>\n",
       "      <td>h</td>\n",
       "      <td>1636000.0</td>\n",
       "      <td>S</td>\n",
       "      <td>Nelson</td>\n",
       "      <td>8/10/2016</td>\n",
       "      <td>2.5</td>\n",
       "      <td>...</td>\n",
       "      <td>1.0</td>\n",
       "      <td>2.0</td>\n",
       "      <td>256.0</td>\n",
       "      <td>107.00</td>\n",
       "      <td>1890.0</td>\n",
       "      <td>Yarra</td>\n",
       "      <td>-37.80600</td>\n",
       "      <td>144.99540</td>\n",
       "      <td>Northern Metropolitan</td>\n",
       "      <td>4019.0</td>\n",
       "    </tr>\n",
       "    <tr>\n",
       "      <th>...</th>\n",
       "      <td>...</td>\n",
       "      <td>...</td>\n",
       "      <td>...</td>\n",
       "      <td>...</td>\n",
       "      <td>...</td>\n",
       "      <td>...</td>\n",
       "      <td>...</td>\n",
       "      <td>...</td>\n",
       "      <td>...</td>\n",
       "      <td>...</td>\n",
       "      <td>...</td>\n",
       "      <td>...</td>\n",
       "      <td>...</td>\n",
       "      <td>...</td>\n",
       "      <td>...</td>\n",
       "      <td>...</td>\n",
       "      <td>...</td>\n",
       "      <td>...</td>\n",
       "      <td>...</td>\n",
       "      <td>...</td>\n",
       "      <td>...</td>\n",
       "    </tr>\n",
       "    <tr>\n",
       "      <th>6191</th>\n",
       "      <td>19732</td>\n",
       "      <td>Whittlesea</td>\n",
       "      <td>30 Sherwin St</td>\n",
       "      <td>3</td>\n",
       "      <td>h</td>\n",
       "      <td>601000.0</td>\n",
       "      <td>S</td>\n",
       "      <td>Ray</td>\n",
       "      <td>29/07/2017</td>\n",
       "      <td>35.5</td>\n",
       "      <td>...</td>\n",
       "      <td>2.0</td>\n",
       "      <td>1.0</td>\n",
       "      <td>972.0</td>\n",
       "      <td>149.00</td>\n",
       "      <td>1996.0</td>\n",
       "      <td>Whittlesea</td>\n",
       "      <td>-37.51232</td>\n",
       "      <td>145.13282</td>\n",
       "      <td>Northern Victoria</td>\n",
       "      <td>2170.0</td>\n",
       "    </tr>\n",
       "    <tr>\n",
       "      <th>6192</th>\n",
       "      <td>19733</td>\n",
       "      <td>Williamstown</td>\n",
       "      <td>75 Cecil St</td>\n",
       "      <td>3</td>\n",
       "      <td>h</td>\n",
       "      <td>1050000.0</td>\n",
       "      <td>VB</td>\n",
       "      <td>Williams</td>\n",
       "      <td>29/07/2017</td>\n",
       "      <td>6.8</td>\n",
       "      <td>...</td>\n",
       "      <td>1.0</td>\n",
       "      <td>0.0</td>\n",
       "      <td>179.0</td>\n",
       "      <td>115.00</td>\n",
       "      <td>1890.0</td>\n",
       "      <td>Hobsons Bay</td>\n",
       "      <td>-37.86558</td>\n",
       "      <td>144.90474</td>\n",
       "      <td>Western Metropolitan</td>\n",
       "      <td>6380.0</td>\n",
       "    </tr>\n",
       "    <tr>\n",
       "      <th>6193</th>\n",
       "      <td>19734</td>\n",
       "      <td>Williamstown</td>\n",
       "      <td>2/29 Dover Rd</td>\n",
       "      <td>1</td>\n",
       "      <td>u</td>\n",
       "      <td>385000.0</td>\n",
       "      <td>SP</td>\n",
       "      <td>Williams</td>\n",
       "      <td>29/07/2017</td>\n",
       "      <td>6.8</td>\n",
       "      <td>...</td>\n",
       "      <td>1.0</td>\n",
       "      <td>1.0</td>\n",
       "      <td>0.0</td>\n",
       "      <td>35.64</td>\n",
       "      <td>1967.0</td>\n",
       "      <td>Hobsons Bay</td>\n",
       "      <td>-37.85588</td>\n",
       "      <td>144.89936</td>\n",
       "      <td>Western Metropolitan</td>\n",
       "      <td>6380.0</td>\n",
       "    </tr>\n",
       "    <tr>\n",
       "      <th>6194</th>\n",
       "      <td>19736</td>\n",
       "      <td>Windsor</td>\n",
       "      <td>201/152 Peel St</td>\n",
       "      <td>2</td>\n",
       "      <td>u</td>\n",
       "      <td>560000.0</td>\n",
       "      <td>PI</td>\n",
       "      <td>hockingstuart</td>\n",
       "      <td>29/07/2017</td>\n",
       "      <td>4.6</td>\n",
       "      <td>...</td>\n",
       "      <td>1.0</td>\n",
       "      <td>1.0</td>\n",
       "      <td>0.0</td>\n",
       "      <td>61.60</td>\n",
       "      <td>2012.0</td>\n",
       "      <td>Stonnington</td>\n",
       "      <td>-37.85581</td>\n",
       "      <td>144.99025</td>\n",
       "      <td>Southern Metropolitan</td>\n",
       "      <td>4380.0</td>\n",
       "    </tr>\n",
       "    <tr>\n",
       "      <th>6195</th>\n",
       "      <td>19739</td>\n",
       "      <td>Yarraville</td>\n",
       "      <td>54 Pentland Pde</td>\n",
       "      <td>6</td>\n",
       "      <td>h</td>\n",
       "      <td>2450000.0</td>\n",
       "      <td>VB</td>\n",
       "      <td>Village</td>\n",
       "      <td>29/07/2017</td>\n",
       "      <td>6.3</td>\n",
       "      <td>...</td>\n",
       "      <td>3.0</td>\n",
       "      <td>2.0</td>\n",
       "      <td>1087.0</td>\n",
       "      <td>388.50</td>\n",
       "      <td>1920.0</td>\n",
       "      <td>Maribyrnong</td>\n",
       "      <td>-37.81038</td>\n",
       "      <td>144.89389</td>\n",
       "      <td>Western Metropolitan</td>\n",
       "      <td>6543.0</td>\n",
       "    </tr>\n",
       "  </tbody>\n",
       "</table>\n",
       "<p>6196 rows × 22 columns</p>\n",
       "</div>"
      ],
      "text/plain": [
       "      Unnamed: 0        Suburb          Address  Rooms Type      Price Method  \\\n",
       "0              2    Abbotsford  25 Bloomburg St      2    h  1035000.0      S   \n",
       "1              4    Abbotsford     5 Charles St      3    h  1465000.0     SP   \n",
       "2              6    Abbotsford      55a Park St      4    h  1600000.0     VB   \n",
       "3             11    Abbotsford     124 Yarra St      3    h  1876000.0      S   \n",
       "4             14    Abbotsford    98 Charles St      2    h  1636000.0      S   \n",
       "...          ...           ...              ...    ...  ...        ...    ...   \n",
       "6191       19732    Whittlesea    30 Sherwin St      3    h   601000.0      S   \n",
       "6192       19733  Williamstown      75 Cecil St      3    h  1050000.0     VB   \n",
       "6193       19734  Williamstown    2/29 Dover Rd      1    u   385000.0     SP   \n",
       "6194       19736       Windsor  201/152 Peel St      2    u   560000.0     PI   \n",
       "6195       19739    Yarraville  54 Pentland Pde      6    h  2450000.0     VB   \n",
       "\n",
       "            SellerG        Date  Distance  ...  Bathroom  Car  Landsize  \\\n",
       "0            Biggin   4/02/2016       2.5  ...       1.0  0.0     156.0   \n",
       "1            Biggin   4/03/2017       2.5  ...       2.0  0.0     134.0   \n",
       "2            Nelson   4/06/2016       2.5  ...       1.0  2.0     120.0   \n",
       "3            Nelson   7/05/2016       2.5  ...       2.0  0.0     245.0   \n",
       "4            Nelson   8/10/2016       2.5  ...       1.0  2.0     256.0   \n",
       "...             ...         ...       ...  ...       ...  ...       ...   \n",
       "6191            Ray  29/07/2017      35.5  ...       2.0  1.0     972.0   \n",
       "6192       Williams  29/07/2017       6.8  ...       1.0  0.0     179.0   \n",
       "6193       Williams  29/07/2017       6.8  ...       1.0  1.0       0.0   \n",
       "6194  hockingstuart  29/07/2017       4.6  ...       1.0  1.0       0.0   \n",
       "6195        Village  29/07/2017       6.3  ...       3.0  2.0    1087.0   \n",
       "\n",
       "      BuildingArea  YearBuilt  CouncilArea  Lattitude Longtitude  \\\n",
       "0            79.00     1900.0        Yarra  -37.80790  144.99340   \n",
       "1           150.00     1900.0        Yarra  -37.80930  144.99440   \n",
       "2           142.00     2014.0        Yarra  -37.80720  144.99410   \n",
       "3           210.00     1910.0        Yarra  -37.80240  144.99930   \n",
       "4           107.00     1890.0        Yarra  -37.80600  144.99540   \n",
       "...            ...        ...          ...        ...        ...   \n",
       "6191        149.00     1996.0   Whittlesea  -37.51232  145.13282   \n",
       "6192        115.00     1890.0  Hobsons Bay  -37.86558  144.90474   \n",
       "6193         35.64     1967.0  Hobsons Bay  -37.85588  144.89936   \n",
       "6194         61.60     2012.0  Stonnington  -37.85581  144.99025   \n",
       "6195        388.50     1920.0  Maribyrnong  -37.81038  144.89389   \n",
       "\n",
       "                 Regionname  Propertycount  \n",
       "0     Northern Metropolitan         4019.0  \n",
       "1     Northern Metropolitan         4019.0  \n",
       "2     Northern Metropolitan         4019.0  \n",
       "3     Northern Metropolitan         4019.0  \n",
       "4     Northern Metropolitan         4019.0  \n",
       "...                     ...            ...  \n",
       "6191      Northern Victoria         2170.0  \n",
       "6192   Western Metropolitan         6380.0  \n",
       "6193   Western Metropolitan         6380.0  \n",
       "6194  Southern Metropolitan         4380.0  \n",
       "6195   Western Metropolitan         6543.0  \n",
       "\n",
       "[6196 rows x 22 columns]"
      ]
     },
     "execution_count": 1,
     "metadata": {},
     "output_type": "execute_result"
    }
   ],
   "source": [
    "import pandas as pd\n",
    "\n",
    "df = pd.read_csv('melb_df.csv')\n",
    "df"
   ]
  },
  {
   "cell_type": "code",
   "execution_count": 2,
   "id": "4ce8ff6a",
   "metadata": {},
   "outputs": [],
   "source": [
    "y = df['Price'] # the target (dependent variable)\n",
    "X = df[['Rooms', 'Bathroom', 'Landsize', 'Lattitude', 'Longtitude']] # independent variables"
   ]
  },
  {
   "cell_type": "markdown",
   "id": "a730603f",
   "metadata": {},
   "source": [
    "### Implement the Random Forest Algorithm "
   ]
  },
  {
   "cell_type": "code",
   "execution_count": 3,
   "id": "eb209fd1",
   "metadata": {},
   "outputs": [
    {
     "data": {
      "text/plain": [
       "RandomForestRegressor()"
      ]
     },
     "execution_count": 3,
     "metadata": {},
     "output_type": "execute_result"
    }
   ],
   "source": [
    "from sklearn.ensemble import RandomForestRegressor\n",
    "\n",
    "rf_prediction_model = RandomForestRegressor() # declare the algorithm object\n",
    "rf_prediction_model.fit(X,y) # fit the model. (independent_variables, target_variable)"
   ]
  },
  {
   "cell_type": "markdown",
   "id": "37cd7cce",
   "metadata": {},
   "source": [
    "#### Check model's output"
   ]
  },
  {
   "cell_type": "code",
   "execution_count": 4,
   "id": "51cdc1e8",
   "metadata": {},
   "outputs": [
    {
     "name": "stdout",
     "output_type": "stream",
     "text": [
      "input samples:\n",
      "   Rooms  Bathroom  Landsize  Lattitude  Longtitude\n",
      "0      2       1.0     156.0   -37.8079    144.9934\n",
      "1      3       2.0     134.0   -37.8093    144.9944\n",
      "2      4       1.0     120.0   -37.8072    144.9941\n",
      "3      3       2.0     245.0   -37.8024    144.9993\n",
      "4      2       1.0     256.0   -37.8060    144.9954\n",
      "Actual prices\n",
      "0    1035000.0\n",
      "1    1465000.0\n",
      "2    1600000.0\n",
      "3    1876000.0\n",
      "4    1636000.0\n",
      "Name: Price, dtype: float64\n",
      "model`s output\n",
      "[1060955.  1359075.  1524178.5 1719845.  1509950. ]\n"
     ]
    }
   ],
   "source": [
    "print('input samples:')\n",
    "print(X.head())\n",
    "print('Actual prices')\n",
    "print(y.head())\n",
    "print('model`s output')\n",
    "print(rf_prediction_model.predict(X.head()))"
   ]
  },
  {
   "cell_type": "markdown",
   "id": "49323ec5",
   "metadata": {},
   "source": [
    "At this moment, the model is unprecise due to overfitting and non-calibrated training. Lest's work it out to refine the presition, but first, lest measure the MAE (mean absolute error):"
   ]
  },
  {
   "cell_type": "markdown",
   "id": "827e4c78",
   "metadata": {},
   "source": [
    "## MAE"
   ]
  },
  {
   "cell_type": "code",
   "execution_count": 5,
   "id": "bed80763",
   "metadata": {},
   "outputs": [
    {
     "data": {
      "text/plain": [
       "69321.3416169162"
      ]
     },
     "execution_count": 5,
     "metadata": {},
     "output_type": "execute_result"
    }
   ],
   "source": [
    "from sklearn.metrics import mean_absolute_error\n",
    "\n",
    "prediction = rf_prediction_model.predict(X)\n",
    "mean_absolute_error(y, prediction)"
   ]
  },
  {
   "cell_type": "markdown",
   "id": "890eb54d",
   "metadata": {},
   "source": [
    "The MAE output declares that the model if off by ~ $69,503. To calibrate this, we are going to balance the fitting of the model by dividing the data into two parts: training, and actual values"
   ]
  },
  {
   "cell_type": "markdown",
   "id": "d2783e4b",
   "metadata": {},
   "source": [
    "## Validation"
   ]
  },
  {
   "cell_type": "code",
   "execution_count": 6,
   "id": "429ff226",
   "metadata": {},
   "outputs": [
    {
     "name": "stdout",
     "output_type": "stream",
     "text": [
      "192064.63707122873\n"
     ]
    }
   ],
   "source": [
    "from sklearn.model_selection import train_test_split\n",
    "\n",
    "train_X, val_X, train_y, val_y = train_test_split(X,y) # four variables take the four values returned by the method.\n",
    "\n",
    "rf_prediction_model = RandomForestRegressor() #declare another algorithm object\n",
    "rf_prediction_model.fit(train_X,train_y) # fit the new predictor just with the training data\n",
    "\n",
    "# run the predictor with the actual values to measure the MAE\n",
    "val_prediction = rf_prediction_model.predict(val_X) \n",
    "print(mean_absolute_error(val_y, val_prediction)) # check the new MAE when fitting it with the training values"
   ]
  },
  {
   "cell_type": "markdown",
   "id": "d541e2da",
   "metadata": {},
   "source": [
    "To refine the algorithm`s performance, we need to determine what number of leafs delivers the better result. To calculate this, it is necessary to iterate over a list of possible max leaf values, run the algorithm, and measure the MAE for each number of leafs. The leaf number that return the lowest MAE is the optimal max leaf to fit the model. A get_mae function will help to optimize the process"
   ]
  },
  {
   "cell_type": "code",
   "execution_count": 7,
   "id": "739be4e1",
   "metadata": {},
   "outputs": [
    {
     "name": "stdout",
     "output_type": "stream",
     "text": [
      "Max leaf nodes: 55............MAE: 234978.72931908243\n",
      "Max leaf nodes: 550............MAE: 194484.30262729805\n",
      "Max leaf nodes: 5500............MAE: 190607.68603594744\n",
      "Max leaf nodes: 5550............MAE: 191804.16743275232\n"
     ]
    }
   ],
   "source": [
    "def get_mae(max_leaf_nodes, train_X, val_X, train_y, val_y):\n",
    "    model = RandomForestRegressor(max_leaf_nodes = max_leaf_nodes) # create a model specifying the max_leaf_nodes parameter\n",
    "    model.fit(train_X, train_y)\n",
    "    val_prediction = model.predict(val_X)\n",
    "    mae = mean_absolute_error(val_y, val_prediction)\n",
    "    return mae\n",
    "\n",
    "# start iteration\n",
    "\n",
    "for max_leaf_nodes in [55,550,5500,5550]:\n",
    "    mae_value = get_mae(max_leaf_nodes, train_X, val_X, train_y, val_y)\n",
    "    print(f'Max leaf nodes: {max_leaf_nodes}............MAE: {mae_value}')"
   ]
  },
  {
   "cell_type": "markdown",
   "id": "3538fead",
   "metadata": {},
   "source": [
    "As we can see, the most optimal MAE output is obtaines with 5500 leaf nodes"
   ]
  },
  {
   "cell_type": "code",
   "execution_count": 8,
   "id": "3f3a50b3",
   "metadata": {},
   "outputs": [
    {
     "name": "stdout",
     "output_type": "stream",
     "text": [
      "input data\n",
      "      Rooms  Bathroom  Landsize  Lattitude  Longtitude\n",
      "5690      4       3.0     153.0  -37.83591   144.94963\n",
      "1180      3       2.0     118.0  -37.78630   145.10600\n",
      "2649      1       1.0    1768.0  -37.85100   144.98800\n",
      "2310      3       2.0     472.0  -37.93870   145.04610\n",
      "1523      3       2.0     112.0  -37.80010   144.87970\n",
      "actual values\n",
      "5690    1800000.0\n",
      "1180     746000.0\n",
      "2649     492000.0\n",
      "2310     917000.0\n",
      "1523     735000.0\n",
      "Name: Price, dtype: float64\n",
      "output\n",
      "[2280217.          938286.33333333  474103.         1056570.\n",
      "  650910.        ]\n",
      "MAE value\n",
      "182812.06666666665\n"
     ]
    }
   ],
   "source": [
    "try_model = RandomForestRegressor(max_leaf_nodes = 5555)\n",
    "try_model.fit(train_X,train_y)\n",
    "\n",
    "print(\"input data\")\n",
    "print(val_X.head())\n",
    "print(\"actual values\")\n",
    "print(val_y.head())\n",
    "print(\"output\")\n",
    "out = try_model.predict(val_X.head())\n",
    "print(out)\n",
    "print(\"MAE value\")\n",
    "print(mean_absolute_error(val_y.head(), out))"
   ]
  },
  {
   "cell_type": "markdown",
   "id": "941fdbb3",
   "metadata": {},
   "source": [
    "Since the result is still fluctuating with a high error margin, we should use another approach. The GridSearchCV module is used especially to determine the optimal values for the algorithm's parameters, hence improving the algorithm's overall performance."
   ]
  },
  {
   "cell_type": "code",
   "execution_count": 9,
   "id": "0671aef0",
   "metadata": {},
   "outputs": [
    {
     "name": "stdout",
     "output_type": "stream",
     "text": [
      "Best parameters found:  {}\n"
     ]
    }
   ],
   "source": [
    "from sklearn.model_selection import GridSearchCV\n",
    "\n",
    "#Define the parameter grid\n",
    "param_grid = {\n",
    "#     'n_estimators': [300,400,500,600],\n",
    "#     'max_depth': [40,45,50,55,60,65,70,75],\n",
    "#     'min_samples_split': [10,15,20],\n",
    "#     'min_samples_leaf': [1, 2, 4, 5],\n",
    "#     'max_features': ['auto', 'sqrt', 'log2'],\n",
    "#     'max_leaf_nodes': [5550,5555,5600,6000]\n",
    "}\n",
    "\n",
    "# Create a RandomForestClassifier instance\n",
    "rf = RandomForestRegressor()\n",
    "\n",
    "# Use GridSearchCV to find the best parameters\n",
    "grid_search = GridSearchCV(rf, param_grid, cv=5, scoring='neg_mean_absolute_error',n_jobs=-1)\n",
    "grid_search.fit(train_X,train_y)\n",
    "\n",
    "# # Print the best parameters\n",
    "print(\"Best parameters found: \", grid_search.best_params_)\n",
    "\n",
    "#results: \n",
    "#'n_estimators': 280\n",
    "#'max_depth': 50\n",
    "#'min_samples_split': 10\n",
    "#'min_samples_leaf': 2\n",
    "#'max_features': 'sqrt'\n",
    "#'max_leaf_nodes': 5555\n"
   ]
  },
  {
   "cell_type": "code",
   "execution_count": 10,
   "id": "6f3c9638",
   "metadata": {},
   "outputs": [
    {
     "name": "stdout",
     "output_type": "stream",
     "text": [
      "input data\n",
      "      Rooms  Bathroom  Landsize  Lattitude  Longtitude\n",
      "5690      4       3.0     153.0  -37.83591   144.94963\n",
      "1180      3       2.0     118.0  -37.78630   145.10600\n",
      "2649      1       1.0    1768.0  -37.85100   144.98800\n",
      "2310      3       2.0     472.0  -37.93870   145.04610\n",
      "1523      3       2.0     112.0  -37.80010   144.87970\n",
      "actual values\n",
      "5690    1800000.0\n",
      "1180     746000.0\n",
      "2649     492000.0\n",
      "2310     917000.0\n",
      "1523     735000.0\n",
      "Name: Price, dtype: float64\n",
      "output\n",
      "[2024757.023561    974725.46413789  473014.54354695 1166446.2719341\n",
      "  783653.15556782]\n",
      "MAE value\n",
      "154113.47433077352\n"
     ]
    }
   ],
   "source": [
    "# Train the model with the best parameters\n",
    "# best_rf = grid_search.best_estimator_\n",
    "# best_rf.fit(X_train, y_train)\n",
    "\n",
    "# or recreate the model manualy:\n",
    "best_rf = RandomForestRegressor(n_estimators=280,\n",
    "                                max_depth=50, \n",
    "                                min_samples_split = 10, \n",
    "                                min_samples_leaf = 2, \n",
    "                                max_features='sqrt',\n",
    "                               max_leaf_nodes= 5555)\n",
    "best_rf.fit(train_X,train_y)\n",
    "\n",
    "print(\"input data\")\n",
    "print(val_X.head())\n",
    "print(\"actual values\")\n",
    "print(val_y.head())\n",
    "print(\"output\")\n",
    "out = best_rf.predict(val_X.head())\n",
    "print(out)\n",
    "print(\"MAE value\")\n",
    "print(mean_absolute_error(val_y.head(), out))"
   ]
  },
  {
   "cell_type": "markdown",
   "id": "a48fba6f",
   "metadata": {},
   "source": [
    "## Conclutions \n",
    "In this case, the best performance for the Random forest is achieved by using the parameters: \n",
    "n_estimators=280,\n",
    "max_depth=50, \n",
    "min_samples_split = 10, \n",
    "min_samples_leaf = 2, \n",
    "max_features='sqrt',\n",
    "max_leaf_nodes= 5555"
   ]
  },
  {
   "cell_type": "code",
   "execution_count": 22,
   "id": "712254c1",
   "metadata": {},
   "outputs": [
    {
     "name": "stdout",
     "output_type": "stream",
     "text": [
      "input data\n",
      "   Rooms  Bathroom  Landsize  Lattitude  Longtitude\n",
      "0      2       1.0     156.0   -37.8079    144.9934\n",
      "1      3       2.0     134.0   -37.8093    144.9944\n",
      "2      4       1.0     120.0   -37.8072    144.9941\n",
      "3      3       2.0     245.0   -37.8024    144.9993\n",
      "4      2       1.0     256.0   -37.8060    144.9954\n",
      "actual values\n",
      "0    1035000.0\n",
      "1    1465000.0\n",
      "2    1600000.0\n",
      "3    1876000.0\n",
      "4    1636000.0\n",
      "Name: Price, dtype: float64\n",
      "output\n",
      "[1081834.7670911]\n",
      "MAE value\n"
     ]
    },
    {
     "name": "stderr",
     "output_type": "stream",
     "text": [
      "C:\\ProgramData\\Anaconda3\\lib\\site-packages\\sklearn\\base.py:450: UserWarning: X does not have valid feature names, but RandomForestRegressor was fitted with feature names\n",
      "  warnings.warn(\n"
     ]
    }
   ],
   "source": [
    "\n",
    "\n",
    "best_rf.fit(X,y)\n",
    "def rf_predictor(rooms, bathroom, landsize, lattitude, longtitude):\n",
    "    out = best_rf.predict([[rooms, bathroom, landsize, lattitude, longtitude]])\n",
    "    return out\n",
    "print(\"input data\")\n",
    "print(X.head())\n",
    "print(\"actual values\")\n",
    "print(y.head())\n",
    "print(\"output\")\n",
    "# out = best_rf.predict([[2,1.0,156.0,-37.8079,144.9934]])\n",
    "# print(out)\n",
    "print(rf_predictor(2,1.0,156.0,-37.8079,144.9934))\n",
    "print(\"MAE value\")\n",
    "# print(mean_absolute_error(y.head(), out))"
   ]
  },
  {
   "cell_type": "code",
   "execution_count": null,
   "id": "d0bf3766",
   "metadata": {},
   "outputs": [],
   "source": []
  }
 ],
 "metadata": {
  "kernelspec": {
   "display_name": "Python 3 (ipykernel)",
   "language": "python",
   "name": "python3"
  },
  "language_info": {
   "codemirror_mode": {
    "name": "ipython",
    "version": 3
   },
   "file_extension": ".py",
   "mimetype": "text/x-python",
   "name": "python",
   "nbconvert_exporter": "python",
   "pygments_lexer": "ipython3",
   "version": "3.9.13"
  }
 },
 "nbformat": 4,
 "nbformat_minor": 5
}
